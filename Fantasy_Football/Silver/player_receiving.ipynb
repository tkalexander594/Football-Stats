{
 "cells": [
  {
   "cell_type": "code",
   "execution_count": 2,
   "metadata": {},
   "outputs": [],
   "source": [
    "import polars as pl\n",
    "import sys\n",
    "import os\n",
    "import re  # Import the re module for regular expressions\n",
    "sys.path.append(\"/Users/treveralexander/Library/CloudStorage/OneDrive-EY/Personal/DE_Project/Fantasy_Football\")"
   ]
  },
  {
   "cell_type": "code",
   "execution_count": 4,
   "metadata": {},
   "outputs": [
    {
     "data": {
      "text/html": [
       "<div><style>\n",
       ".dataframe > thead > tr,\n",
       ".dataframe > tbody > tr {\n",
       "  text-align: right;\n",
       "  white-space: pre-wrap;\n",
       "}\n",
       "</style>\n",
       "<small>shape: (21_682, 13)</small><table border=\"1\" class=\"dataframe\"><thead><tr><th>Player</th><th>Rec</th><th>Yds</th><th>TD</th><th>20+</th><th>40+</th><th>LNG</th><th>Rec 1st</th><th>1st%</th><th>Rec FUM</th><th>Rec YAC/R</th><th>Tgts</th><th>Season</th></tr><tr><td>str</td><td>str</td><td>str</td><td>str</td><td>str</td><td>str</td><td>str</td><td>str</td><td>str</td><td>str</td><td>str</td><td>str</td><td>i32</td></tr></thead><tbody><tr><td>&quot;Michael Thomas&quot;</td><td>&quot;125&quot;</td><td>&quot;1405&quot;</td><td>&quot;9&quot;</td><td>&quot;17&quot;</td><td>&quot;2&quot;</td><td>&quot;72&quot;</td><td>&quot;75&quot;</td><td>&quot;60&quot;</td><td>&quot;2&quot;</td><td>&quot;509&quot;</td><td>&quot;147&quot;</td><td>2018</td></tr><tr><td>&quot;Zach Ertz&quot;</td><td>&quot;116&quot;</td><td>&quot;1163&quot;</td><td>&quot;8&quot;</td><td>&quot;13&quot;</td><td>&quot;0&quot;</td><td>&quot;34&quot;</td><td>&quot;66&quot;</td><td>&quot;56.9&quot;</td><td>&quot;1&quot;</td><td>&quot;371&quot;</td><td>&quot;156&quot;</td><td>2018</td></tr><tr><td>&quot;DeAndre Hopkins&quot;</td><td>&quot;115&quot;</td><td>&quot;1572&quot;</td><td>&quot;11&quot;</td><td>&quot;23&quot;</td><td>&quot;4&quot;</td><td>&quot;49&quot;</td><td>&quot;81&quot;</td><td>&quot;70.4&quot;</td><td>&quot;2&quot;</td><td>&quot;402&quot;</td><td>&quot;163&quot;</td><td>2018</td></tr><tr><td>&quot;Julio Jones&quot;</td><td>&quot;113&quot;</td><td>&quot;1677&quot;</td><td>&quot;8&quot;</td><td>&quot;24&quot;</td><td>&quot;2&quot;</td><td>&quot;58&quot;</td><td>&quot;80&quot;</td><td>&quot;70.8&quot;</td><td>&quot;2&quot;</td><td>&quot;470&quot;</td><td>&quot;170&quot;</td><td>2018</td></tr><tr><td>&quot;Adam Thielen&quot;</td><td>&quot;113&quot;</td><td>&quot;1373&quot;</td><td>&quot;9&quot;</td><td>&quot;17&quot;</td><td>&quot;3&quot;</td><td>&quot;68&quot;</td><td>&quot;74&quot;</td><td>&quot;65.5&quot;</td><td>&quot;1&quot;</td><td>&quot;435&quot;</td><td>&quot;153&quot;</td><td>2018</td></tr><tr><td>&hellip;</td><td>&hellip;</td><td>&hellip;</td><td>&hellip;</td><td>&hellip;</td><td>&hellip;</td><td>&hellip;</td><td>&hellip;</td><td>&hellip;</td><td>&hellip;</td><td>&hellip;</td><td>&hellip;</td><td>&hellip;</td></tr><tr><td>&quot;Brevin Jordan&quot;</td><td>&quot;20&quot;</td><td>&quot;178&quot;</td><td>&quot;3&quot;</td><td>&quot;2&quot;</td><td>&quot;0&quot;</td><td>&quot;27&quot;</td><td>&quot;10&quot;</td><td>&quot;50&quot;</td><td>&quot;0&quot;</td><td>&quot;94&quot;</td><td>&quot;28&quot;</td><td>2021</td></tr><tr><td>&quot;Isaiah McKenzie&quot;</td><td>&quot;20&quot;</td><td>&quot;178&quot;</td><td>&quot;1&quot;</td><td>&quot;1&quot;</td><td>&quot;0&quot;</td><td>&quot;28&quot;</td><td>&quot;13&quot;</td><td>&quot;65&quot;</td><td>&quot;0&quot;</td><td>&quot;81&quot;</td><td>&quot;26&quot;</td><td>2021</td></tr><tr><td>&quot;Donald Parham&quot;</td><td>&quot;20&quot;</td><td>&quot;190&quot;</td><td>&quot;3&quot;</td><td>&quot;1&quot;</td><td>&quot;0&quot;</td><td>&quot;22&quot;</td><td>&quot;13&quot;</td><td>&quot;65&quot;</td><td>&quot;0&quot;</td><td>&quot;138&quot;</td><td>&quot;27&quot;</td><td>2021</td></tr><tr><td>&quot;Tommy Tremble&quot;</td><td>&quot;20&quot;</td><td>&quot;180&quot;</td><td>&quot;1&quot;</td><td>&quot;1&quot;</td><td>&quot;0&quot;</td><td>&quot;30&quot;</td><td>&quot;10&quot;</td><td>&quot;50&quot;</td><td>&quot;0&quot;</td><td>&quot;70&quot;</td><td>&quot;35&quot;</td><td>2021</td></tr><tr><td>&quot;Clyde Edwards-Helaire&quot;</td><td>&quot;19&quot;</td><td>&quot;129&quot;</td><td>&quot;2&quot;</td><td>&quot;1&quot;</td><td>&quot;0&quot;</td><td>&quot;29&quot;</td><td>&quot;8&quot;</td><td>&quot;42.1&quot;</td><td>&quot;0&quot;</td><td>&quot;169&quot;</td><td>&quot;23&quot;</td><td>2021</td></tr></tbody></table></div>"
      ],
      "text/plain": [
       "shape: (21_682, 13)\n",
       "┌───────────────────────┬─────┬──────┬─────┬───┬─────────┬───────────┬──────┬────────┐\n",
       "│ Player                ┆ Rec ┆ Yds  ┆ TD  ┆ … ┆ Rec FUM ┆ Rec YAC/R ┆ Tgts ┆ Season │\n",
       "│ ---                   ┆ --- ┆ ---  ┆ --- ┆   ┆ ---     ┆ ---       ┆ ---  ┆ ---    │\n",
       "│ str                   ┆ str ┆ str  ┆ str ┆   ┆ str     ┆ str       ┆ str  ┆ i32    │\n",
       "╞═══════════════════════╪═════╪══════╪═════╪═══╪═════════╪═══════════╪══════╪════════╡\n",
       "│ Michael Thomas        ┆ 125 ┆ 1405 ┆ 9   ┆ … ┆ 2       ┆ 509       ┆ 147  ┆ 2018   │\n",
       "│ Zach Ertz             ┆ 116 ┆ 1163 ┆ 8   ┆ … ┆ 1       ┆ 371       ┆ 156  ┆ 2018   │\n",
       "│ DeAndre Hopkins       ┆ 115 ┆ 1572 ┆ 11  ┆ … ┆ 2       ┆ 402       ┆ 163  ┆ 2018   │\n",
       "│ Julio Jones           ┆ 113 ┆ 1677 ┆ 8   ┆ … ┆ 2       ┆ 470       ┆ 170  ┆ 2018   │\n",
       "│ Adam Thielen          ┆ 113 ┆ 1373 ┆ 9   ┆ … ┆ 1       ┆ 435       ┆ 153  ┆ 2018   │\n",
       "│ …                     ┆ …   ┆ …    ┆ …   ┆ … ┆ …       ┆ …         ┆ …    ┆ …      │\n",
       "│ Brevin Jordan         ┆ 20  ┆ 178  ┆ 3   ┆ … ┆ 0       ┆ 94        ┆ 28   ┆ 2021   │\n",
       "│ Isaiah McKenzie       ┆ 20  ┆ 178  ┆ 1   ┆ … ┆ 0       ┆ 81        ┆ 26   ┆ 2021   │\n",
       "│ Donald Parham         ┆ 20  ┆ 190  ┆ 3   ┆ … ┆ 0       ┆ 138       ┆ 27   ┆ 2021   │\n",
       "│ Tommy Tremble         ┆ 20  ┆ 180  ┆ 1   ┆ … ┆ 0       ┆ 70        ┆ 35   ┆ 2021   │\n",
       "│ Clyde Edwards-Helaire ┆ 19  ┆ 129  ┆ 2   ┆ … ┆ 0       ┆ 169       ┆ 23   ┆ 2021   │\n",
       "└───────────────────────┴─────┴──────┴─────┴───┴─────────┴───────────┴──────┴────────┘"
      ]
     },
     "metadata": {},
     "output_type": "display_data"
    }
   ],
   "source": [
    "path = '/Users/treveralexander/Library/CloudStorage/OneDrive-EY/Personal/DE_Project/Storage/Bronze/player_stats/receiving'\n",
    "df_receiving = pl.read_delta(path)\n",
    "display(df_receiving)"
   ]
  },
  {
   "cell_type": "code",
   "execution_count": 6,
   "metadata": {},
   "outputs": [],
   "source": [
    "def remove_special_characters(df: pl.DataFrame, column_name: str) -> pl.DataFrame:\n",
    "    \"\"\"\n",
    "    Remove special characters from a specified column in a Polars DataFrame.\n",
    "\n",
    "    Args:\n",
    "        df (pl.DataFrame): The input DataFrame.\n",
    "        column_name (str): The name of the column to modify.\n",
    "\n",
    "    Returns:\n",
    "        pl.DataFrame: The modified DataFrame with special characters removed from the specified column.\n",
    "    \"\"\"\n",
    "    # Regular expression pattern to match special characters\n",
    "    pattern = r\"[^\\w\\s]\"\n",
    "    \n",
    "    # Remove special characters from the specified column\n",
    "    df = df.with_columns(\n",
    "        pl.col(column_name).str.replace_all(pattern, \"\")\n",
    "    )\n",
    "    \n",
    "    return df\n",
    "\n",
    "df_player = df.select(\"Player\")\n",
    "df_player = remove_special_characters(df_player, \"Player\")"
   ]
  },
  {
   "cell_type": "markdown",
   "metadata": {},
   "source": [
    "# Cleaning Player data for receivers"
   ]
  },
  {
   "cell_type": "code",
   "execution_count": 7,
   "metadata": {},
   "outputs": [
    {
     "data": {
      "text/html": [
       "<div><style>\n",
       ".dataframe > thead > tr,\n",
       ".dataframe > tbody > tr {\n",
       "  text-align: right;\n",
       "  white-space: pre-wrap;\n",
       "}\n",
       "</style>\n",
       "<small>shape: (5_684, 2)</small><table border=\"1\" class=\"dataframe\"><thead><tr><th>id</th><th>Player</th></tr><tr><td>u32</td><td>str</td></tr></thead><tbody><tr><td>1</td><td>&quot;AB Brown&quot;</td></tr><tr><td>2</td><td>&quot;AJ Brown&quot;</td></tr><tr><td>3</td><td>&quot;AJ Derby&quot;</td></tr><tr><td>4</td><td>&quot;AJ Dillon&quot;</td></tr><tr><td>5</td><td>&quot;AJ Green&quot;</td></tr><tr><td>&hellip;</td><td>&hellip;</td></tr><tr><td>5680</td><td>&quot;Zeke Turner&quot;</td></tr><tr><td>5681</td><td>&quot;Zeron Flemister&quot;</td></tr><tr><td>5682</td><td>&quot;Zola Davis&quot;</td></tr><tr><td>5683</td><td>&quot;Zuriel Smith&quot;</td></tr><tr><td>5684</td><td>&quot;Zurlon Tipton&quot;</td></tr></tbody></table></div>"
      ],
      "text/plain": [
       "shape: (5_684, 2)\n",
       "┌──────┬─────────────────┐\n",
       "│ id   ┆ Player          │\n",
       "│ ---  ┆ ---             │\n",
       "│ u32  ┆ str             │\n",
       "╞══════╪═════════════════╡\n",
       "│ 1    ┆ AB Brown        │\n",
       "│ 2    ┆ AJ Brown        │\n",
       "│ 3    ┆ AJ Derby        │\n",
       "│ 4    ┆ AJ Dillon       │\n",
       "│ 5    ┆ AJ Green        │\n",
       "│ …    ┆ …               │\n",
       "│ 5680 ┆ Zeke Turner     │\n",
       "│ 5681 ┆ Zeron Flemister │\n",
       "│ 5682 ┆ Zola Davis      │\n",
       "│ 5683 ┆ Zuriel Smith    │\n",
       "│ 5684 ┆ Zurlon Tipton   │\n",
       "└──────┴─────────────────┘"
      ]
     },
     "metadata": {},
     "output_type": "display_data"
    }
   ],
   "source": [
    "df_player_unique = df_player.unique().sort('Player', descending=False)\n",
    "df_player_unique = df_player_unique.with_row_index(name=\"id\",offset=1)\n",
    "display(df_player_unique)\n",
    "#display(df_player_unique.filter(pl.col(\"Player\")== \"Antonio Brown\"))\n"
   ]
  },
  {
   "cell_type": "code",
   "execution_count": 10,
   "metadata": {},
   "outputs": [
    {
     "name": "stdout",
     "output_type": "stream",
     "text": [
      "shape: (5_684, 6)\n",
      "┌──────┬─────────────────┬────────────┬───────────┬──────────┬───────────┐\n",
      "│ id   ┆ player_name     ┆ first_name ┆ last_name ┆ position ┆ category  │\n",
      "│ ---  ┆ ---             ┆ ---        ┆ ---       ┆ ---      ┆ ---       │\n",
      "│ u32  ┆ str             ┆ str        ┆ str       ┆ str      ┆ str       │\n",
      "╞══════╪═════════════════╪════════════╪═══════════╪══════════╪═══════════╡\n",
      "│ 1    ┆ AB Brown        ┆ AB         ┆ Brown     ┆ offense  ┆ receiving │\n",
      "│ 2    ┆ AJ Brown        ┆ AJ         ┆ Brown     ┆ offense  ┆ receiving │\n",
      "│ 3    ┆ AJ Derby        ┆ AJ         ┆ Derby     ┆ offense  ┆ receiving │\n",
      "│ 4    ┆ AJ Dillon       ┆ AJ         ┆ Dillon    ┆ offense  ┆ receiving │\n",
      "│ 5    ┆ AJ Green        ┆ AJ         ┆ Green     ┆ offense  ┆ receiving │\n",
      "│ …    ┆ …               ┆ …          ┆ …         ┆ …        ┆ …         │\n",
      "│ 5680 ┆ Zeke Turner     ┆ Zeke       ┆ Turner    ┆ offense  ┆ receiving │\n",
      "│ 5681 ┆ Zeron Flemister ┆ Zeron      ┆ Flemister ┆ offense  ┆ receiving │\n",
      "│ 5682 ┆ Zola Davis      ┆ Zola       ┆ Davis     ┆ offense  ┆ receiving │\n",
      "│ 5683 ┆ Zuriel Smith    ┆ Zuriel     ┆ Smith     ┆ offense  ┆ receiving │\n",
      "│ 5684 ┆ Zurlon Tipton   ┆ Zurlon     ┆ Tipton    ┆ offense  ┆ receiving │\n",
      "└──────┴─────────────────┴────────────┴───────────┴──────────┴───────────┘\n"
     ]
    }
   ],
   "source": [
    "df_player_unique = df_player_unique.with_columns([\n",
    "    pl.col(\"Player\").alias(\"player_name\"),\n",
    "    pl.col(\"Player\").str.extract(r\"(\\S+)\", 1).alias(\"first_name\"),\n",
    "    pl.col(\"Player\").str.extract(r\"(\\S+)$\", 0).alias(\"last_name\"),\n",
    "    pl.lit(\"receiving\").alias(\"category\"),\n",
    "    pl.lit(\"offense\").alias(\"position\")\n",
    "])\n",
    "dim_palyer = df_player_unique.select([\"id\",\"player_name\",'first_name','last_name', 'position','category'])\n",
    "print(dim_palyer)"
   ]
  },
  {
   "cell_type": "code",
   "execution_count": 15,
   "metadata": {},
   "outputs": [],
   "source": [
    "path = \"/Users/treveralexander/Library/CloudStorage/OneDrive-EY/Personal/DE_Project/Storage/Silver/dim_player\"\n",
    "dim_palyer.write_delta(path,mode=\"overwrite\")"
   ]
  },
  {
   "cell_type": "markdown",
   "metadata": {},
   "source": [
    "# Cleaning player data for rushing"
   ]
  },
  {
   "cell_type": "code",
   "execution_count": 19,
   "metadata": {},
   "outputs": [
    {
     "data": {
      "text/html": [
       "<div><style>\n",
       ".dataframe > thead > tr,\n",
       ".dataframe > tbody > tr {\n",
       "  text-align: right;\n",
       "  white-space: pre-wrap;\n",
       "}\n",
       "</style>\n",
       "<small>shape: (16_711, 11)</small><table border=\"1\" class=\"dataframe\"><thead><tr><th>Player</th><th>Rush Yds</th><th>Att</th><th>TD</th><th>20+</th><th>40+</th><th>Lng</th><th>Rush 1st</th><th>Rush 1st%</th><th>Rush FUM</th><th>Season</th></tr><tr><td>str</td><td>str</td><td>str</td><td>str</td><td>str</td><td>str</td><td>str</td><td>str</td><td>str</td><td>str</td><td>i32</td></tr></thead><tbody><tr><td>&quot;Floyd Little&quot;</td><td>&quot;1133&quot;</td><td>&quot;284&quot;</td><td>&quot;6&quot;</td><td>&quot;0&quot;</td><td>&quot;0&quot;</td><td>&quot;40&quot;</td><td>&quot;0&quot;</td><td>&quot;0&quot;</td><td>&quot;0&quot;</td><td>1971</td></tr><tr><td>&quot;John Brockington&quot;</td><td>&quot;1105&quot;</td><td>&quot;216&quot;</td><td>&quot;4&quot;</td><td>&quot;0&quot;</td><td>&quot;0&quot;</td><td>&quot;52&quot;</td><td>&quot;0&quot;</td><td>&quot;0&quot;</td><td>&quot;0&quot;</td><td>1971</td></tr><tr><td>&quot;Larry Csonka&quot;</td><td>&quot;1051&quot;</td><td>&quot;195&quot;</td><td>&quot;7&quot;</td><td>&quot;0&quot;</td><td>&quot;0&quot;</td><td>&quot;28&quot;</td><td>&quot;0&quot;</td><td>&quot;0&quot;</td><td>&quot;0&quot;</td><td>1971</td></tr><tr><td>&quot;Steve Owens&quot;</td><td>&quot;1035&quot;</td><td>&quot;246&quot;</td><td>&quot;8&quot;</td><td>&quot;0&quot;</td><td>&quot;0&quot;</td><td>&quot;23&quot;</td><td>&quot;0&quot;</td><td>&quot;0&quot;</td><td>&quot;0&quot;</td><td>1971</td></tr><tr><td>&quot;Willie Ellison&quot;</td><td>&quot;1000&quot;</td><td>&quot;211&quot;</td><td>&quot;4&quot;</td><td>&quot;0&quot;</td><td>&quot;0&quot;</td><td>&quot;80&quot;</td><td>&quot;0&quot;</td><td>&quot;0&quot;</td><td>&quot;0&quot;</td><td>1971</td></tr><tr><td>&hellip;</td><td>&hellip;</td><td>&hellip;</td><td>&hellip;</td><td>&hellip;</td><td>&hellip;</td><td>&hellip;</td><td>&hellip;</td><td>&hellip;</td><td>&hellip;</td><td>&hellip;</td></tr><tr><td>&quot;Philip Rivers&quot;</td><td>&quot;-8&quot;</td><td>&quot;18&quot;</td><td>&quot;0&quot;</td><td>&quot;0&quot;</td><td>&quot;0&quot;</td><td>&quot;3&quot;</td><td>&quot;0&quot;</td><td>&quot;0&quot;</td><td>&quot;0&quot;</td><td>2020</td></tr><tr><td>&quot;Tim Boyle&quot;</td><td>&quot;-9&quot;</td><td>&quot;13&quot;</td><td>&quot;0&quot;</td><td>&quot;0&quot;</td><td>&quot;0&quot;</td><td>&quot;0&quot;</td><td>&quot;0&quot;</td><td>&quot;0&quot;</td><td>&quot;0&quot;</td><td>2020</td></tr><tr><td>&quot;Adrian Killins Jr.&quot;</td><td>&quot;-12&quot;</td><td>&quot;1&quot;</td><td>&quot;0&quot;</td><td>&quot;0&quot;</td><td>&quot;0&quot;</td><td>&quot;-12&quot;</td><td>&quot;0&quot;</td><td>&quot;0&quot;</td><td>&quot;0&quot;</td><td>2020</td></tr><tr><td>&quot;Ced Wilson&quot;</td><td>&quot;-12&quot;</td><td>&quot;3&quot;</td><td>&quot;0&quot;</td><td>&quot;0&quot;</td><td>&quot;0&quot;</td><td>&quot;-1&quot;</td><td>&quot;0&quot;</td><td>&quot;0&quot;</td><td>&quot;0&quot;</td><td>2020</td></tr><tr><td>&quot;Ty Long&quot;</td><td>&quot;-28&quot;</td><td>&quot;1&quot;</td><td>&quot;0&quot;</td><td>&quot;0&quot;</td><td>&quot;0&quot;</td><td>&quot;-28&quot;</td><td>&quot;0&quot;</td><td>&quot;0&quot;</td><td>&quot;0&quot;</td><td>2020</td></tr></tbody></table></div>"
      ],
      "text/plain": [
       "shape: (16_711, 11)\n",
       "┌────────────────────┬──────────┬─────┬─────┬───┬──────────┬───────────┬──────────┬────────┐\n",
       "│ Player             ┆ Rush Yds ┆ Att ┆ TD  ┆ … ┆ Rush 1st ┆ Rush 1st% ┆ Rush FUM ┆ Season │\n",
       "│ ---                ┆ ---      ┆ --- ┆ --- ┆   ┆ ---      ┆ ---       ┆ ---      ┆ ---    │\n",
       "│ str                ┆ str      ┆ str ┆ str ┆   ┆ str      ┆ str       ┆ str      ┆ i32    │\n",
       "╞════════════════════╪══════════╪═════╪═════╪═══╪══════════╪═══════════╪══════════╪════════╡\n",
       "│ Floyd Little       ┆ 1133     ┆ 284 ┆ 6   ┆ … ┆ 0        ┆ 0         ┆ 0        ┆ 1971   │\n",
       "│ John Brockington   ┆ 1105     ┆ 216 ┆ 4   ┆ … ┆ 0        ┆ 0         ┆ 0        ┆ 1971   │\n",
       "│ Larry Csonka       ┆ 1051     ┆ 195 ┆ 7   ┆ … ┆ 0        ┆ 0         ┆ 0        ┆ 1971   │\n",
       "│ Steve Owens        ┆ 1035     ┆ 246 ┆ 8   ┆ … ┆ 0        ┆ 0         ┆ 0        ┆ 1971   │\n",
       "│ Willie Ellison     ┆ 1000     ┆ 211 ┆ 4   ┆ … ┆ 0        ┆ 0         ┆ 0        ┆ 1971   │\n",
       "│ …                  ┆ …        ┆ …   ┆ …   ┆ … ┆ …        ┆ …         ┆ …        ┆ …      │\n",
       "│ Philip Rivers      ┆ -8       ┆ 18  ┆ 0   ┆ … ┆ 0        ┆ 0         ┆ 0        ┆ 2020   │\n",
       "│ Tim Boyle          ┆ -9       ┆ 13  ┆ 0   ┆ … ┆ 0        ┆ 0         ┆ 0        ┆ 2020   │\n",
       "│ Adrian Killins Jr. ┆ -12      ┆ 1   ┆ 0   ┆ … ┆ 0        ┆ 0         ┆ 0        ┆ 2020   │\n",
       "│ Ced Wilson         ┆ -12      ┆ 3   ┆ 0   ┆ … ┆ 0        ┆ 0         ┆ 0        ┆ 2020   │\n",
       "│ Ty Long            ┆ -28      ┆ 1   ┆ 0   ┆ … ┆ 0        ┆ 0         ┆ 0        ┆ 2020   │\n",
       "└────────────────────┴──────────┴─────┴─────┴───┴──────────┴───────────┴──────────┴────────┘"
      ]
     },
     "metadata": {},
     "output_type": "display_data"
    }
   ],
   "source": [
    "path = '/Users/treveralexander/Library/CloudStorage/OneDrive-EY/Personal/DE_Project/Storage/Bronze/player_stats/rushing'\n",
    "df_rushing = pl.read_delta(path)\n",
    "display(df_rushing)"
   ]
  },
  {
   "cell_type": "code",
   "execution_count": null,
   "metadata": {},
   "outputs": [],
   "source": [
    "df_rushing_unique = df_rushing.unique().sort('Player', descending=False)\n",
    "df_rushing_unique = df_player_unique.with_row_index(name=\"id\",offset=1)\n",
    "display(df_player_unique)\n",
    "#display(df_player_unique.filter(pl.col(\"Player\")== \"Antonio Brown\"))"
   ]
  },
  {
   "cell_type": "code",
   "execution_count": null,
   "metadata": {},
   "outputs": [],
   "source": [
    "df_player_unique = df_player_unique.with_columns([\n",
    "    pl.col(\"Player\").alias(\"player_name\"),\n",
    "    pl.col(\"Player\").str.extract(r\"(\\S+)\", 1).alias(\"first_name\"),\n",
    "    pl.col(\"Player\").str.extract(r\"(\\S+)$\", 0).alias(\"last_name\"),\n",
    "    pl.lit(\"rushing\").alias(\"category\"),\n",
    "    pl.lit(\"offense\").alias(\"position\")\n",
    "])\n",
    "dim_palyer = df_player_unique.select([\"id\",\"player_name\",'first_name','last_name', 'position','category'])\n",
    "print(dim_palyer)"
   ]
  }
 ],
 "metadata": {
  "kernelspec": {
   "display_name": "Python 3",
   "language": "python",
   "name": "python3"
  },
  "language_info": {
   "codemirror_mode": {
    "name": "ipython",
    "version": 3
   },
   "file_extension": ".py",
   "mimetype": "text/x-python",
   "name": "python",
   "nbconvert_exporter": "python",
   "pygments_lexer": "ipython3",
   "version": "3.9.6"
  }
 },
 "nbformat": 4,
 "nbformat_minor": 2
}
