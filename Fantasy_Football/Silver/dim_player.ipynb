{
 "cells": [
  {
   "cell_type": "code",
   "execution_count": 59,
   "metadata": {},
   "outputs": [],
   "source": [
    "import polars as pl\n",
    "import sys\n",
    "import os\n",
    "import re  # Import the re module for regular expressions\n",
    "sys.path.append(\"/Users/treveralexander/Library/CloudStorage/OneDrive-EY/Personal/DE_Project/Fantasy_Football\")"
   ]
  },
  {
   "cell_type": "code",
   "execution_count": 33,
   "metadata": {},
   "outputs": [
    {
     "data": {
      "text/html": [
       "<div><style>\n",
       ".dataframe > thead > tr,\n",
       ".dataframe > tbody > tr {\n",
       "  text-align: right;\n",
       "  white-space: pre-wrap;\n",
       "}\n",
       "</style>\n",
       "<small>shape: (21_682, 13)</small><table border=\"1\" class=\"dataframe\"><thead><tr><th>Player</th><th>Rec</th><th>Yds</th><th>TD</th><th>20+</th><th>40+</th><th>LNG</th><th>Rec 1st</th><th>1st%</th><th>Rec FUM</th><th>Rec YAC/R</th><th>Tgts</th><th>Season</th></tr><tr><td>str</td><td>str</td><td>str</td><td>str</td><td>str</td><td>str</td><td>str</td><td>str</td><td>str</td><td>str</td><td>str</td><td>str</td><td>i32</td></tr></thead><tbody><tr><td>&quot;Michael Thomas…</td><td>&quot;125&quot;</td><td>&quot;1405&quot;</td><td>&quot;9&quot;</td><td>&quot;17&quot;</td><td>&quot;2&quot;</td><td>&quot;72&quot;</td><td>&quot;75&quot;</td><td>&quot;60&quot;</td><td>&quot;2&quot;</td><td>&quot;509&quot;</td><td>&quot;147&quot;</td><td>2018</td></tr><tr><td>&quot;Zach Ertz&quot;</td><td>&quot;116&quot;</td><td>&quot;1163&quot;</td><td>&quot;8&quot;</td><td>&quot;13&quot;</td><td>&quot;0&quot;</td><td>&quot;34&quot;</td><td>&quot;66&quot;</td><td>&quot;56.9&quot;</td><td>&quot;1&quot;</td><td>&quot;371&quot;</td><td>&quot;156&quot;</td><td>2018</td></tr><tr><td>&quot;DeAndre Hopkin…</td><td>&quot;115&quot;</td><td>&quot;1572&quot;</td><td>&quot;11&quot;</td><td>&quot;23&quot;</td><td>&quot;4&quot;</td><td>&quot;49&quot;</td><td>&quot;81&quot;</td><td>&quot;70.4&quot;</td><td>&quot;2&quot;</td><td>&quot;402&quot;</td><td>&quot;163&quot;</td><td>2018</td></tr><tr><td>&quot;Julio Jones&quot;</td><td>&quot;113&quot;</td><td>&quot;1677&quot;</td><td>&quot;8&quot;</td><td>&quot;24&quot;</td><td>&quot;2&quot;</td><td>&quot;58&quot;</td><td>&quot;80&quot;</td><td>&quot;70.8&quot;</td><td>&quot;2&quot;</td><td>&quot;470&quot;</td><td>&quot;170&quot;</td><td>2018</td></tr><tr><td>&quot;Adam Thielen&quot;</td><td>&quot;113&quot;</td><td>&quot;1373&quot;</td><td>&quot;9&quot;</td><td>&quot;17&quot;</td><td>&quot;3&quot;</td><td>&quot;68&quot;</td><td>&quot;74&quot;</td><td>&quot;65.5&quot;</td><td>&quot;1&quot;</td><td>&quot;435&quot;</td><td>&quot;153&quot;</td><td>2018</td></tr><tr><td>&quot;Davante Adams&quot;</td><td>&quot;111&quot;</td><td>&quot;1386&quot;</td><td>&quot;13&quot;</td><td>&quot;18&quot;</td><td>&quot;5&quot;</td><td>&quot;57&quot;</td><td>&quot;64&quot;</td><td>&quot;57.7&quot;</td><td>&quot;0&quot;</td><td>&quot;498&quot;</td><td>&quot;169&quot;</td><td>2018</td></tr><tr><td>&quot;JuJu Smith-Sch…</td><td>&quot;111&quot;</td><td>&quot;1426&quot;</td><td>&quot;7&quot;</td><td>&quot;18&quot;</td><td>&quot;5&quot;</td><td>&quot;97&quot;</td><td>&quot;68&quot;</td><td>&quot;61.3&quot;</td><td>&quot;1&quot;</td><td>&quot;653&quot;</td><td>&quot;166&quot;</td><td>2018</td></tr><tr><td>&quot;Christian McCa…</td><td>&quot;107&quot;</td><td>&quot;867&quot;</td><td>&quot;6&quot;</td><td>&quot;11&quot;</td><td>&quot;0&quot;</td><td>&quot;38&quot;</td><td>&quot;41&quot;</td><td>&quot;38.3&quot;</td><td>&quot;2&quot;</td><td>&quot;875&quot;</td><td>&quot;124&quot;</td><td>2018</td></tr><tr><td>&quot;Antonio Brown&quot;</td><td>&quot;104&quot;</td><td>&quot;1297&quot;</td><td>&quot;15&quot;</td><td>&quot;17&quot;</td><td>&quot;6&quot;</td><td>&quot;78&quot;</td><td>&quot;63&quot;</td><td>&quot;60.6&quot;</td><td>&quot;0&quot;</td><td>&quot;503&quot;</td><td>&quot;168&quot;</td><td>2018</td></tr><tr><td>&quot;Travis Kelce&quot;</td><td>&quot;103&quot;</td><td>&quot;1336&quot;</td><td>&quot;10&quot;</td><td>&quot;18&quot;</td><td>&quot;2&quot;</td><td>&quot;43&quot;</td><td>&quot;68&quot;</td><td>&quot;66&quot;</td><td>&quot;2&quot;</td><td>&quot;588&quot;</td><td>&quot;150&quot;</td><td>2018</td></tr><tr><td>&quot;Stefon Diggs&quot;</td><td>&quot;102&quot;</td><td>&quot;1021&quot;</td><td>&quot;9&quot;</td><td>&quot;13&quot;</td><td>&quot;2&quot;</td><td>&quot;75&quot;</td><td>&quot;49&quot;</td><td>&quot;48&quot;</td><td>&quot;0&quot;</td><td>&quot;446&quot;</td><td>&quot;149&quot;</td><td>2018</td></tr><tr><td>&quot;Keenan Allen&quot;</td><td>&quot;97&quot;</td><td>&quot;1196&quot;</td><td>&quot;6&quot;</td><td>&quot;13&quot;</td><td>&quot;1&quot;</td><td>&quot;54&quot;</td><td>&quot;62&quot;</td><td>&quot;63.9&quot;</td><td>&quot;1&quot;</td><td>&quot;410&quot;</td><td>&quot;136&quot;</td><td>2018</td></tr><tr><td>&hellip;</td><td>&hellip;</td><td>&hellip;</td><td>&hellip;</td><td>&hellip;</td><td>&hellip;</td><td>&hellip;</td><td>&hellip;</td><td>&hellip;</td><td>&hellip;</td><td>&hellip;</td><td>&hellip;</td><td>&hellip;</td></tr><tr><td>&quot;Will Dissly&quot;</td><td>&quot;21&quot;</td><td>&quot;231&quot;</td><td>&quot;1&quot;</td><td>&quot;5&quot;</td><td>&quot;0&quot;</td><td>&quot;39&quot;</td><td>&quot;11&quot;</td><td>&quot;52.4&quot;</td><td>&quot;1&quot;</td><td>&quot;143&quot;</td><td>&quot;26&quot;</td><td>2021</td></tr><tr><td>&quot;Sony Michel&quot;</td><td>&quot;21&quot;</td><td>&quot;128&quot;</td><td>&quot;1&quot;</td><td>&quot;1&quot;</td><td>&quot;0&quot;</td><td>&quot;24&quot;</td><td>&quot;6&quot;</td><td>&quot;28.6&quot;</td><td>&quot;0&quot;</td><td>&quot;120&quot;</td><td>&quot;33&quot;</td><td>2021</td></tr><tr><td>&quot;Chris Moore&quot;</td><td>&quot;21&quot;</td><td>&quot;227&quot;</td><td>&quot;2&quot;</td><td>&quot;4&quot;</td><td>&quot;1&quot;</td><td>&quot;67&quot;</td><td>&quot;6&quot;</td><td>&quot;28.6&quot;</td><td>&quot;0&quot;</td><td>&quot;147&quot;</td><td>&quot;22&quot;</td><td>2021</td></tr><tr><td>&quot;John Bates&quot;</td><td>&quot;20&quot;</td><td>&quot;249&quot;</td><td>&quot;1&quot;</td><td>&quot;4&quot;</td><td>&quot;0&quot;</td><td>&quot;32&quot;</td><td>&quot;11&quot;</td><td>&quot;55&quot;</td><td>&quot;1&quot;</td><td>&quot;139&quot;</td><td>&quot;25&quot;</td><td>2021</td></tr><tr><td>&quot;Nick Chubb&quot;</td><td>&quot;20&quot;</td><td>&quot;174&quot;</td><td>&quot;1&quot;</td><td>&quot;2&quot;</td><td>&quot;1&quot;</td><td>&quot;40&quot;</td><td>&quot;9&quot;</td><td>&quot;45&quot;</td><td>&quot;0&quot;</td><td>&quot;183&quot;</td><td>&quot;25&quot;</td><td>2021</td></tr><tr><td>&quot;Marquise Goodw…</td><td>&quot;20&quot;</td><td>&quot;313&quot;</td><td>&quot;1&quot;</td><td>&quot;5&quot;</td><td>&quot;2&quot;</td><td>&quot;50&quot;</td><td>&quot;12&quot;</td><td>&quot;60&quot;</td><td>&quot;1&quot;</td><td>&quot;83&quot;</td><td>&quot;40&quot;</td><td>2021</td></tr><tr><td>&quot;DeSean Jackson…</td><td>&quot;20&quot;</td><td>&quot;454&quot;</td><td>&quot;2&quot;</td><td>&quot;6&quot;</td><td>&quot;4&quot;</td><td>&quot;75&quot;</td><td>&quot;12&quot;</td><td>&quot;60&quot;</td><td>&quot;1&quot;</td><td>&quot;175&quot;</td><td>&quot;34&quot;</td><td>2021</td></tr><tr><td>&quot;Brevin Jordan&quot;</td><td>&quot;20&quot;</td><td>&quot;178&quot;</td><td>&quot;3&quot;</td><td>&quot;2&quot;</td><td>&quot;0&quot;</td><td>&quot;27&quot;</td><td>&quot;10&quot;</td><td>&quot;50&quot;</td><td>&quot;0&quot;</td><td>&quot;94&quot;</td><td>&quot;28&quot;</td><td>2021</td></tr><tr><td>&quot;Isaiah McKenzi…</td><td>&quot;20&quot;</td><td>&quot;178&quot;</td><td>&quot;1&quot;</td><td>&quot;1&quot;</td><td>&quot;0&quot;</td><td>&quot;28&quot;</td><td>&quot;13&quot;</td><td>&quot;65&quot;</td><td>&quot;0&quot;</td><td>&quot;81&quot;</td><td>&quot;26&quot;</td><td>2021</td></tr><tr><td>&quot;Donald Parham&quot;</td><td>&quot;20&quot;</td><td>&quot;190&quot;</td><td>&quot;3&quot;</td><td>&quot;1&quot;</td><td>&quot;0&quot;</td><td>&quot;22&quot;</td><td>&quot;13&quot;</td><td>&quot;65&quot;</td><td>&quot;0&quot;</td><td>&quot;138&quot;</td><td>&quot;27&quot;</td><td>2021</td></tr><tr><td>&quot;Tommy Tremble&quot;</td><td>&quot;20&quot;</td><td>&quot;180&quot;</td><td>&quot;1&quot;</td><td>&quot;1&quot;</td><td>&quot;0&quot;</td><td>&quot;30&quot;</td><td>&quot;10&quot;</td><td>&quot;50&quot;</td><td>&quot;0&quot;</td><td>&quot;70&quot;</td><td>&quot;35&quot;</td><td>2021</td></tr><tr><td>&quot;Clyde Edwards-…</td><td>&quot;19&quot;</td><td>&quot;129&quot;</td><td>&quot;2&quot;</td><td>&quot;1&quot;</td><td>&quot;0&quot;</td><td>&quot;29&quot;</td><td>&quot;8&quot;</td><td>&quot;42.1&quot;</td><td>&quot;0&quot;</td><td>&quot;169&quot;</td><td>&quot;23&quot;</td><td>2021</td></tr></tbody></table></div>"
      ],
      "text/plain": [
       "shape: (21_682, 13)\n",
       "┌───────────────────────┬─────┬──────┬─────┬───┬─────────┬───────────┬──────┬────────┐\n",
       "│ Player                ┆ Rec ┆ Yds  ┆ TD  ┆ … ┆ Rec FUM ┆ Rec YAC/R ┆ Tgts ┆ Season │\n",
       "│ ---                   ┆ --- ┆ ---  ┆ --- ┆   ┆ ---     ┆ ---       ┆ ---  ┆ ---    │\n",
       "│ str                   ┆ str ┆ str  ┆ str ┆   ┆ str     ┆ str       ┆ str  ┆ i32    │\n",
       "╞═══════════════════════╪═════╪══════╪═════╪═══╪═════════╪═══════════╪══════╪════════╡\n",
       "│ Michael Thomas        ┆ 125 ┆ 1405 ┆ 9   ┆ … ┆ 2       ┆ 509       ┆ 147  ┆ 2018   │\n",
       "│ Zach Ertz             ┆ 116 ┆ 1163 ┆ 8   ┆ … ┆ 1       ┆ 371       ┆ 156  ┆ 2018   │\n",
       "│ DeAndre Hopkins       ┆ 115 ┆ 1572 ┆ 11  ┆ … ┆ 2       ┆ 402       ┆ 163  ┆ 2018   │\n",
       "│ Julio Jones           ┆ 113 ┆ 1677 ┆ 8   ┆ … ┆ 2       ┆ 470       ┆ 170  ┆ 2018   │\n",
       "│ Adam Thielen          ┆ 113 ┆ 1373 ┆ 9   ┆ … ┆ 1       ┆ 435       ┆ 153  ┆ 2018   │\n",
       "│ …                     ┆ …   ┆ …    ┆ …   ┆ … ┆ …       ┆ …         ┆ …    ┆ …      │\n",
       "│ Brevin Jordan         ┆ 20  ┆ 178  ┆ 3   ┆ … ┆ 0       ┆ 94        ┆ 28   ┆ 2021   │\n",
       "│ Isaiah McKenzie       ┆ 20  ┆ 178  ┆ 1   ┆ … ┆ 0       ┆ 81        ┆ 26   ┆ 2021   │\n",
       "│ Donald Parham         ┆ 20  ┆ 190  ┆ 3   ┆ … ┆ 0       ┆ 138       ┆ 27   ┆ 2021   │\n",
       "│ Tommy Tremble         ┆ 20  ┆ 180  ┆ 1   ┆ … ┆ 0       ┆ 70        ┆ 35   ┆ 2021   │\n",
       "│ Clyde Edwards-Helaire ┆ 19  ┆ 129  ┆ 2   ┆ … ┆ 0       ┆ 169       ┆ 23   ┆ 2021   │\n",
       "└───────────────────────┴─────┴──────┴─────┴───┴─────────┴───────────┴──────┴────────┘"
      ]
     },
     "metadata": {},
     "output_type": "display_data"
    }
   ],
   "source": [
    "path = '/Users/treveralexander/Library/CloudStorage/OneDrive-EY/Personal/DE_Project/Storage/Bronze/player_stats/receiving'\n",
    "df = pl.read_delta(path)\n",
    "display(df)"
   ]
  },
  {
   "cell_type": "code",
   "execution_count": 70,
   "metadata": {},
   "outputs": [],
   "source": [
    "def remove_special_characters(df: pl.DataFrame, column_name: str) -> pl.DataFrame:\n",
    "    \"\"\"\n",
    "    Remove special characters from a specified column in a Polars DataFrame.\n",
    "\n",
    "    Args:\n",
    "        df (pl.DataFrame): The input DataFrame.\n",
    "        column_name (str): The name of the column to modify.\n",
    "\n",
    "    Returns:\n",
    "        pl.DataFrame: The modified DataFrame with special characters removed from the specified column.\n",
    "    \"\"\"\n",
    "    # Regular expression pattern to match special characters\n",
    "    pattern = r\"[^\\w\\s]\"\n",
    "    \n",
    "    # Remove special characters from the specified column\n",
    "    df = df.with_columns(\n",
    "        pl.col(column_name).str.replace_all(pattern, \"\")\n",
    "    )\n",
    "    \n",
    "    return df\n",
    "\n",
    "df_player = df.select(\"Player\")\n",
    "df_player = remove_special_characters(df_player, \"Player\")"
   ]
  },
  {
   "cell_type": "code",
   "execution_count": 82,
   "metadata": {},
   "outputs": [
    {
     "data": {
      "text/html": [
       "<div><style>\n",
       ".dataframe > thead > tr,\n",
       ".dataframe > tbody > tr {\n",
       "  text-align: right;\n",
       "  white-space: pre-wrap;\n",
       "}\n",
       "</style>\n",
       "<small>shape: (5_684, 2)</small><table border=\"1\" class=\"dataframe\"><thead><tr><th>id</th><th>Player</th></tr><tr><td>u32</td><td>str</td></tr></thead><tbody><tr><td>1</td><td>&quot;AB Brown&quot;</td></tr><tr><td>2</td><td>&quot;AJ Brown&quot;</td></tr><tr><td>3</td><td>&quot;AJ Derby&quot;</td></tr><tr><td>4</td><td>&quot;AJ Dillon&quot;</td></tr><tr><td>5</td><td>&quot;AJ Green&quot;</td></tr><tr><td>6</td><td>&quot;AJ Jenkins&quot;</td></tr><tr><td>7</td><td>&quot;AJ Ofodile&quot;</td></tr><tr><td>8</td><td>&quot;AT Perry&quot;</td></tr><tr><td>9</td><td>&quot;Aaron Bailey&quot;</td></tr><tr><td>10</td><td>&quot;Aaron Brewer&quot;</td></tr><tr><td>11</td><td>&quot;Aaron Brooks&quot;</td></tr><tr><td>12</td><td>&quot;Aaron Brown&quot;</td></tr><tr><td>&hellip;</td><td>&hellip;</td></tr><tr><td>5673</td><td>&quot;Zak Keasey&quot;</td></tr><tr><td>5674</td><td>&quot;Zamir White&quot;</td></tr><tr><td>5675</td><td>&quot;Zander Horvath…</td></tr><tr><td>5676</td><td>&quot;Zane Beadles&quot;</td></tr><tr><td>5677</td><td>&quot;Zay Flowers&quot;</td></tr><tr><td>5678</td><td>&quot;Zay Jones&quot;</td></tr><tr><td>5679</td><td>&quot;Zeke Mowatt&quot;</td></tr><tr><td>5680</td><td>&quot;Zeke Turner&quot;</td></tr><tr><td>5681</td><td>&quot;Zeron Flemiste…</td></tr><tr><td>5682</td><td>&quot;Zola Davis&quot;</td></tr><tr><td>5683</td><td>&quot;Zuriel Smith&quot;</td></tr><tr><td>5684</td><td>&quot;Zurlon Tipton&quot;</td></tr></tbody></table></div>"
      ],
      "text/plain": [
       "shape: (5_684, 2)\n",
       "┌──────┬─────────────────┐\n",
       "│ id   ┆ Player          │\n",
       "│ ---  ┆ ---             │\n",
       "│ u32  ┆ str             │\n",
       "╞══════╪═════════════════╡\n",
       "│ 1    ┆ AB Brown        │\n",
       "│ 2    ┆ AJ Brown        │\n",
       "│ 3    ┆ AJ Derby        │\n",
       "│ 4    ┆ AJ Dillon       │\n",
       "│ 5    ┆ AJ Green        │\n",
       "│ …    ┆ …               │\n",
       "│ 5680 ┆ Zeke Turner     │\n",
       "│ 5681 ┆ Zeron Flemister │\n",
       "│ 5682 ┆ Zola Davis      │\n",
       "│ 5683 ┆ Zuriel Smith    │\n",
       "│ 5684 ┆ Zurlon Tipton   │\n",
       "└──────┴─────────────────┘"
      ]
     },
     "metadata": {},
     "output_type": "display_data"
    }
   ],
   "source": [
    "df_player_unique = df_player.unique().sort('Player', descending=False)\n",
    "df_player_unique = df_player_unique.with_row_index(name=\"id\",offset=1)\n",
    "display(df_player_unique)\n",
    "#display(df_player_unique.filter(pl.col(\"Player\")== \"Antonio Brown\"))\n"
   ]
  }
 ],
 "metadata": {
  "kernelspec": {
   "display_name": "Python 3",
   "language": "python",
   "name": "python3"
  },
  "language_info": {
   "codemirror_mode": {
    "name": "ipython",
    "version": 3
   },
   "file_extension": ".py",
   "mimetype": "text/x-python",
   "name": "python",
   "nbconvert_exporter": "python",
   "pygments_lexer": "ipython3",
   "version": "3.9.6"
  }
 },
 "nbformat": 4,
 "nbformat_minor": 2
}
