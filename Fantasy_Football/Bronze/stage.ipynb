{
 "cells": [
  {
   "cell_type": "code",
   "execution_count": 1,
   "metadata": {},
   "outputs": [],
   "source": [
    "import polars as pl\n",
    "import sys\n",
    "import os\n",
    "sys.path.append(\"/Users/treveralexander/Library/CloudStorage/OneDrive-EY/Personal/DE_Project/Fantasy_Football\")"
   ]
  },
  {
   "cell_type": "code",
   "execution_count": 2,
   "metadata": {},
   "outputs": [
    {
     "name": "stdout",
     "output_type": "stream",
     "text": [
      "1.6.0\n"
     ]
    }
   ],
   "source": [
    "print(pl.__version__)"
   ]
  },
  {
   "cell_type": "code",
   "execution_count": null,
   "metadata": {},
   "outputs": [],
   "source": [
    "def extract_year(filename):\n",
    "    \"\"\"Extracts the year from a filename that ends with a pattern like \"_YYYY.json\".\n",
    "\n",
    "    Args:\n",
    "        filename (str): The filename to extract the year from.\n",
    "\n",
    "    Returns:\n",
    "        int: The extracted year, or None if the year could not be extracted.\n",
    "\n",
    "    Raises:\n",
    "        ValueError: If the filename does not contain a valid year component.\n",
    "\n",
    "    Example:\n",
    "        >>> extract_year(\"data_2023.json\")\n",
    "        2023\n",
    "        >>> extract_year(\"file_without_year.txt\")\n",
    "        None\n",
    "    \"\"\"\n",
    "\n",
    "    try:\n",
    "        # Split the filename by underscores and take the last part\n",
    "        last_part = filename.split(\"_\")[-1]\n",
    "\n",
    "        # Split the last part by dots and take the first part (assumed to be the year)\n",
    "        year_str = last_part.split(\".\")[0]\n",
    "\n",
    "        # Convert the extracted year string to an integer\n",
    "        return int(year_str)\n",
    "\n",
    "    except (ValueError, IndexError):\n",
    "        # Handle cases where the filename doesn't have expected format\n",
    "        return None\n",
    "\n"
   ]
  },
  {
   "cell_type": "markdown",
   "metadata": {
    "tags": []
   },
   "source": [
    "def extract_year(filename):\n",
    "    return int(filename.split(\"_\")[-1].split(\".\")[0])"
   ]
  },
  {
   "cell_type": "code",
   "execution_count": null,
   "metadata": {},
   "outputs": [],
   "source": [
    "def concatenate_json_files(directory_path, chunksize=None):\n",
    "    all_dfs = []\n",
    "    for filename in os.listdir(directory_path):\n",
    "        if filename.endswith(\".json\"):\n",
    "            file_path = os.path.join(directory_path, filename)\n",
    "\n",
    "            # Extract the year from the filename\n",
    "            year = extract_year(filename)\n",
    "\n",
    "            # Read the JSON file into a DataFrame\n",
    "            if chunksize is None:\n",
    "                df = pl.read_json(file_path)\n",
    "            else:\n",
    "                df = pl.read_json(file_path, chunksize=chunksize)\n",
    "\n",
    "            # Add a new column with the extracted year\n",
    "            df = df.with_columns(Season=pl.lit(year))\n",
    "\n",
    "            all_dfs.append(df)\n",
    "\n",
    "    return pl.concat(all_dfs)"
   ]
  },
  {
   "cell_type": "code",
   "execution_count": null,
   "metadata": {},
   "outputs": [],
   "source": [
    "def write_delta(read_path,write_path,mode):\n",
    "    df = concatenate_json_files(read_path)\n",
    "    try:\n",
    "        df.write_delta(\n",
    "            write_path,\n",
    "            mode=mode\n",
    "        )\n",
    "        print(f\"delta table succesfully created in path:{write_path}\")\n",
    "    except Exception as e:\n",
    "        print(e)"
   ]
  },
  {
   "cell_type": "code",
   "execution_count": 221,
   "metadata": {},
   "outputs": [
    {
     "name": "stdout",
     "output_type": "stream",
     "text": [
      "delta table succesfully created in path:/Users/treveralexander/Library/CloudStorage/OneDrive-EY/Personal/DE_Project/Storage/Bronze/staging.team_stats/special-teams/scoring\n"
     ]
    }
   ],
   "source": [
    "read_path = '/Users/treveralexander/Library/CloudStorage/OneDrive-EY/Personal/DE_Project/Storage/Raw/Team_Stats/special-teams/scoring'\n",
    "write_path = '/Users/treveralexander/Library/CloudStorage/OneDrive-EY/Personal/DE_Project/Storage/Bronze/staging.team_stats/special-teams/scoring'\n",
    "mode = 'overwrite'\n",
    "write_delta(read_path,write_path,mode)"
   ]
  },
  {
   "cell_type": "code",
   "execution_count": 3,
   "metadata": {},
   "outputs": [],
   "source": [
    "def read_delta(path):\n",
    "    try:\n",
    "        df = pl.read_delta(path)\n",
    "        print(f\"delta table successfully read from path: {path}\")\n",
    "        return df\n",
    "    except Exception as e:\n",
    "        print(e)"
   ]
  },
  {
   "cell_type": "code",
   "execution_count": 222,
   "metadata": {},
   "outputs": [],
   "source": [
    "def read_csv(path):\n",
    "    try:\n",
    "        df = pl.read_csv(path)\n",
    "        print(f\"csv succesfully read from path: {path}\")\n",
    "        return df\n",
    "    except Exception as e:\n",
    "        print(e)"
   ]
  },
  {
   "cell_type": "code",
   "execution_count": 225,
   "metadata": {},
   "outputs": [
    {
     "name": "stdout",
     "output_type": "stream",
     "text": [
      "csv succesfully read from path: /Users/treveralexander/Library/CloudStorage/OneDrive-EY/Personal/DE_Project/Storage/Audit/path_metadata.csv\n"
     ]
    }
   ],
   "source": [
    "path = '/Users/treveralexander/Library/CloudStorage/OneDrive-EY/Personal/DE_Project/Storage/Audit/path_metadata.csv'\n",
    "df = read_csv(path)\n",
    "#display(df)"
   ]
  },
  {
   "cell_type": "code",
   "execution_count": null,
   "metadata": {},
   "outputs": [],
   "source": [
    "path = \"/Users/treveralexander/Library/CloudStorage/OneDrive-EY/Personal/DE_Project/Storage/Audit/path_metadata\"\n",
    "df.write_delta(path,mode=\"overwrite\")"
   ]
  },
  {
   "cell_type": "code",
   "execution_count": null,
   "metadata": {},
   "outputs": [
    {
     "name": "stdout",
     "output_type": "stream",
     "text": [
      "delta table successfully read from path: /Users/treveralexander/Library/CloudStorage/OneDrive-EY/Personal/DE_Project/Storage/Audit/path_metadata\n"
     ]
    },
    {
     "data": {
      "text/html": [
       "<div><style>\n",
       ".dataframe > thead > tr,\n",
       ".dataframe > tbody > tr {\n",
       "  text-align: right;\n",
       "  white-space: pre-wrap;\n",
       "}\n",
       "</style>\n",
       "<small>shape: (11, 11)</small><table border=\"1\" class=\"dataframe\"><thead><tr><th>id</th><th>category</th><th>sub_category</th><th>type</th><th>raw_path</th><th>bronze_path</th><th>silver_path</th><th>gold_path</th><th>created_by</th><th>created_date</th><th>modified_date</th></tr><tr><td>i64</td><td>str</td><td>str</td><td>str</td><td>str</td><td>str</td><td>str</td><td>str</td><td>str</td><td>str</td><td>str</td></tr></thead><tbody><tr><td>1</td><td>&quot;player_stats&quot;</td><td>null</td><td>&quot;field-goals&quot;</td><td>&quot;/Users/trevera…</td><td>null</td><td>null</td><td>null</td><td>&quot;Trever A&quot;</td><td>&quot;4/1/24 23:26&quot;</td><td>&quot;4/1/24 23:26&quot;</td></tr><tr><td>2</td><td>&quot;player_stats&quot;</td><td>null</td><td>&quot;fumbles&quot;</td><td>&quot;/Users/trevera…</td><td>null</td><td>null</td><td>null</td><td>&quot;Trever A&quot;</td><td>&quot;4/1/24 23:26&quot;</td><td>&quot;4/1/24 23:26&quot;</td></tr><tr><td>3</td><td>&quot;player_stats&quot;</td><td>null</td><td>&quot;interceptions&quot;</td><td>&quot;/Users/trevera…</td><td>null</td><td>null</td><td>null</td><td>&quot;Trever A&quot;</td><td>&quot;4/1/24 23:26&quot;</td><td>&quot;4/1/24 23:26&quot;</td></tr><tr><td>4</td><td>&quot;player_stats&quot;</td><td>null</td><td>&quot;kickoff-return…</td><td>&quot;/Users/trevera…</td><td>null</td><td>null</td><td>null</td><td>&quot;Trever A&quot;</td><td>&quot;4/1/24 23:26&quot;</td><td>&quot;4/1/24 23:26&quot;</td></tr><tr><td>5</td><td>&quot;player_stats&quot;</td><td>null</td><td>&quot;kickoffs&quot;</td><td>&quot;/Users/trevera…</td><td>null</td><td>null</td><td>null</td><td>&quot;Trever A&quot;</td><td>&quot;4/1/24 23:26&quot;</td><td>&quot;4/1/24 23:26&quot;</td></tr><tr><td>6</td><td>&quot;player_stats&quot;</td><td>null</td><td>&quot;passing&quot;</td><td>&quot;/Users/trevera…</td><td>&quot;/Users/trevera…</td><td>null</td><td>null</td><td>&quot;Trever A&quot;</td><td>&quot;4/1/24 23:26&quot;</td><td>&quot;4/1/24 23:26&quot;</td></tr><tr><td>7</td><td>&quot;player_stats&quot;</td><td>null</td><td>&quot;punt-returns&quot;</td><td>&quot;/Users/trevera…</td><td>null</td><td>null</td><td>null</td><td>&quot;Trever A&quot;</td><td>&quot;4/1/24 23:26&quot;</td><td>&quot;4/1/24 23:26&quot;</td></tr><tr><td>8</td><td>&quot;player_stats&quot;</td><td>null</td><td>&quot;punts&quot;</td><td>&quot;/Users/trevera…</td><td>null</td><td>null</td><td>null</td><td>&quot;Trever A&quot;</td><td>&quot;4/1/24 23:26&quot;</td><td>&quot;4/1/24 23:26&quot;</td></tr><tr><td>9</td><td>&quot;player_stats&quot;</td><td>null</td><td>&quot;receiving&quot;</td><td>&quot;/Users/trevera…</td><td>&quot;/Users/trevera…</td><td>null</td><td>null</td><td>&quot;Trever A&quot;</td><td>&quot;4/1/24 23:26&quot;</td><td>&quot;4/1/24 23:26&quot;</td></tr><tr><td>10</td><td>&quot;player_stats&quot;</td><td>null</td><td>&quot;rushing&quot;</td><td>&quot;/Users/trevera…</td><td>null</td><td>null</td><td>null</td><td>&quot;Trever A&quot;</td><td>&quot;4/1/24 23:26&quot;</td><td>&quot;4/1/24 23:26&quot;</td></tr><tr><td>11</td><td>&quot;player_stats&quot;</td><td>null</td><td>&quot;tackles&quot;</td><td>&quot;/Users/trevera…</td><td>null</td><td>null</td><td>null</td><td>&quot;Trever A&quot;</td><td>&quot;4/1/24 23:26&quot;</td><td>&quot;4/1/24 23:26&quot;</td></tr></tbody></table></div>"
      ],
      "text/plain": [
       "shape: (11, 11)\n",
       "┌─────┬────────────┬────────────┬────────────┬───┬───────────┬────────────┬────────────┬───────────┐\n",
       "│ id  ┆ category   ┆ sub_catego ┆ type       ┆ … ┆ gold_path ┆ created_by ┆ created_da ┆ modified_ │\n",
       "│ --- ┆ ---        ┆ ry         ┆ ---        ┆   ┆ ---       ┆ ---        ┆ te         ┆ date      │\n",
       "│ i64 ┆ str        ┆ ---        ┆ str        ┆   ┆ str       ┆ str        ┆ ---        ┆ ---       │\n",
       "│     ┆            ┆ str        ┆            ┆   ┆           ┆            ┆ str        ┆ str       │\n",
       "╞═════╪════════════╪════════════╪════════════╪═══╪═══════════╪════════════╪════════════╪═══════════╡\n",
       "│ 1   ┆ player_sta ┆ null       ┆ field-goal ┆ … ┆ null      ┆ Trever A   ┆ 4/1/24     ┆ 4/1/24    │\n",
       "│     ┆ ts         ┆            ┆ s          ┆   ┆           ┆            ┆ 23:26      ┆ 23:26     │\n",
       "│ 2   ┆ player_sta ┆ null       ┆ fumbles    ┆ … ┆ null      ┆ Trever A   ┆ 4/1/24     ┆ 4/1/24    │\n",
       "│     ┆ ts         ┆            ┆            ┆   ┆           ┆            ┆ 23:26      ┆ 23:26     │\n",
       "│ 3   ┆ player_sta ┆ null       ┆ intercepti ┆ … ┆ null      ┆ Trever A   ┆ 4/1/24     ┆ 4/1/24    │\n",
       "│     ┆ ts         ┆            ┆ ons        ┆   ┆           ┆            ┆ 23:26      ┆ 23:26     │\n",
       "│ 4   ┆ player_sta ┆ null       ┆ kickoff-re ┆ … ┆ null      ┆ Trever A   ┆ 4/1/24     ┆ 4/1/24    │\n",
       "│     ┆ ts         ┆            ┆ turns      ┆   ┆           ┆            ┆ 23:26      ┆ 23:26     │\n",
       "│ 5   ┆ player_sta ┆ null       ┆ kickoffs   ┆ … ┆ null      ┆ Trever A   ┆ 4/1/24     ┆ 4/1/24    │\n",
       "│     ┆ ts         ┆            ┆            ┆   ┆           ┆            ┆ 23:26      ┆ 23:26     │\n",
       "│ 6   ┆ player_sta ┆ null       ┆ passing    ┆ … ┆ null      ┆ Trever A   ┆ 4/1/24     ┆ 4/1/24    │\n",
       "│     ┆ ts         ┆            ┆            ┆   ┆           ┆            ┆ 23:26      ┆ 23:26     │\n",
       "│ 7   ┆ player_sta ┆ null       ┆ punt-retur ┆ … ┆ null      ┆ Trever A   ┆ 4/1/24     ┆ 4/1/24    │\n",
       "│     ┆ ts         ┆            ┆ ns         ┆   ┆           ┆            ┆ 23:26      ┆ 23:26     │\n",
       "│ 8   ┆ player_sta ┆ null       ┆ punts      ┆ … ┆ null      ┆ Trever A   ┆ 4/1/24     ┆ 4/1/24    │\n",
       "│     ┆ ts         ┆            ┆            ┆   ┆           ┆            ┆ 23:26      ┆ 23:26     │\n",
       "│ 9   ┆ player_sta ┆ null       ┆ receiving  ┆ … ┆ null      ┆ Trever A   ┆ 4/1/24     ┆ 4/1/24    │\n",
       "│     ┆ ts         ┆            ┆            ┆   ┆           ┆            ┆ 23:26      ┆ 23:26     │\n",
       "│ 10  ┆ player_sta ┆ null       ┆ rushing    ┆ … ┆ null      ┆ Trever A   ┆ 4/1/24     ┆ 4/1/24    │\n",
       "│     ┆ ts         ┆            ┆            ┆   ┆           ┆            ┆ 23:26      ┆ 23:26     │\n",
       "│ 11  ┆ player_sta ┆ null       ┆ tackles    ┆ … ┆ null      ┆ Trever A   ┆ 4/1/24     ┆ 4/1/24    │\n",
       "│     ┆ ts         ┆            ┆            ┆   ┆           ┆            ┆ 23:26      ┆ 23:26     │\n",
       "└─────┴────────────┴────────────┴────────────┴───┴───────────┴────────────┴────────────┴───────────┘"
      ]
     },
     "metadata": {},
     "output_type": "display_data"
    }
   ],
   "source": [
    "path = '/Users/treveralexander/Library/CloudStorage/OneDrive-EY/Personal/DE_Project/Storage/Audit/path_metadata'\n",
    "df = read_delta(path).filter(pl.col('category')=='player_stats')\n",
    "display(df)"
   ]
  },
  {
   "cell_type": "code",
   "execution_count": 1,
   "metadata": {},
   "outputs": [
    {
     "ename": "NameError",
     "evalue": "name 'read_delta' is not defined",
     "output_type": "error",
     "traceback": [
      "\u001b[0;31m---------------------------------------------------------------------------\u001b[0m",
      "\u001b[0;31mNameError\u001b[0m                                 Traceback (most recent call last)",
      "\u001b[1;32m/Users/treveralexander/Library/CloudStorage/OneDrive-EY/Personal/Football-Stats/Fantasy_Football/Bronze/stage.ipynb Cell 12\u001b[0m line \u001b[0;36m2\n\u001b[1;32m      <a href='vscode-notebook-cell:/Users/treveralexander/Library/CloudStorage/OneDrive-EY/Personal/Football-Stats/Fantasy_Football/Bronze/stage.ipynb#X14sZmlsZQ%3D%3D?line=0'>1</a>\u001b[0m path \u001b[39m=\u001b[39m \u001b[39m'\u001b[39m\u001b[39m/Users/treveralexander/Library/CloudStorage/OneDrive-EY/Personal/DE_Project/Storage/Bronze/receiving\u001b[39m\u001b[39m'\u001b[39m\n\u001b[0;32m----> <a href='vscode-notebook-cell:/Users/treveralexander/Library/CloudStorage/OneDrive-EY/Personal/Football-Stats/Fantasy_Football/Bronze/stage.ipynb#X14sZmlsZQ%3D%3D?line=1'>2</a>\u001b[0m df_receiving \u001b[39m=\u001b[39m read_delta(path)\n\u001b[1;32m      <a href='vscode-notebook-cell:/Users/treveralexander/Library/CloudStorage/OneDrive-EY/Personal/Football-Stats/Fantasy_Football/Bronze/stage.ipynb#X14sZmlsZQ%3D%3D?line=2'>3</a>\u001b[0m display(df_receiving)\n",
      "\u001b[0;31mNameError\u001b[0m: name 'read_delta' is not defined"
     ]
    }
   ],
   "source": [
    "path = '/Users/treveralexander/Library/CloudStorage/OneDrive-EY/Personal/DE_Project/Storage/Bronze/receiving'\n",
    "df_receiving = read_delta(path)\n",
    "display(df_receiving)"
   ]
  },
  {
   "cell_type": "code",
   "execution_count": 185,
   "metadata": {},
   "outputs": [
    {
     "data": {
      "text/html": [
       "<div><style>\n",
       ".dataframe > thead > tr,\n",
       ".dataframe > tbody > tr {\n",
       "  text-align: right;\n",
       "  white-space: pre-wrap;\n",
       "}\n",
       "</style>\n",
       "<small>shape: (10, 13)</small><table border=\"1\" class=\"dataframe\"><thead><tr><th>Player</th><th>Rec</th><th>Yds</th><th>TD</th><th>20+</th><th>40+</th><th>LNG</th><th>Rec 1st</th><th>1st%</th><th>Rec FUM</th><th>Rec YAC/R</th><th>Tgts</th><th>Season</th></tr><tr><td>str</td><td>str</td><td>str</td><td>str</td><td>str</td><td>str</td><td>str</td><td>str</td><td>str</td><td>str</td><td>str</td><td>str</td><td>i32</td></tr></thead><tbody><tr><td>&quot;Amon-Ra St. Br…</td><td>&quot;119&quot;</td><td>&quot;1515&quot;</td><td>&quot;10&quot;</td><td>&quot;24&quot;</td><td>&quot;3&quot;</td><td>&quot;70&quot;</td><td>&quot;75&quot;</td><td>&quot;63&quot;</td><td>&quot;1&quot;</td><td>&quot;668&quot;</td><td>&quot;164&quot;</td><td>2023</td></tr><tr><td>&quot;A.J. Brown&quot;</td><td>&quot;106&quot;</td><td>&quot;1456&quot;</td><td>&quot;7&quot;</td><td>&quot;21&quot;</td><td>&quot;3&quot;</td><td>&quot;59&quot;</td><td>&quot;70&quot;</td><td>&quot;66&quot;</td><td>&quot;2&quot;</td><td>&quot;473&quot;</td><td>&quot;158&quot;</td><td>2023</td></tr><tr><td>&quot;Adam Thielen&quot;</td><td>&quot;103&quot;</td><td>&quot;1014&quot;</td><td>&quot;4&quot;</td><td>&quot;9&quot;</td><td>&quot;0&quot;</td><td>&quot;32&quot;</td><td>&quot;56&quot;</td><td>&quot;54.4&quot;</td><td>&quot;2&quot;</td><td>&quot;334&quot;</td><td>&quot;137&quot;</td><td>2023</td></tr><tr><td>&quot;Alvin Kamara&quot;</td><td>&quot;75&quot;</td><td>&quot;466&quot;</td><td>&quot;1&quot;</td><td>&quot;3&quot;</td><td>&quot;0&quot;</td><td>&quot;25&quot;</td><td>&quot;23&quot;</td><td>&quot;30.7&quot;</td><td>&quot;0&quot;</td><td>&quot;501&quot;</td><td>&quot;86&quot;</td><td>2023</td></tr><tr><td>&quot;Amari Cooper&quot;</td><td>&quot;72&quot;</td><td>&quot;1250&quot;</td><td>&quot;5&quot;</td><td>&quot;21&quot;</td><td>&quot;8&quot;</td><td>&quot;75&quot;</td><td>&quot;50&quot;</td><td>&quot;69.4&quot;</td><td>&quot;2&quot;</td><td>&quot;271&quot;</td><td>&quot;128&quot;</td><td>2023</td></tr><tr><td>&quot;Austin Ekeler&quot;</td><td>&quot;51&quot;</td><td>&quot;436&quot;</td><td>&quot;1&quot;</td><td>&quot;5&quot;</td><td>&quot;0&quot;</td><td>&quot;39&quot;</td><td>&quot;21&quot;</td><td>&quot;41.2&quot;</td><td>&quot;2&quot;</td><td>&quot;533&quot;</td><td>&quot;74&quot;</td><td>2023</td></tr><tr><td>&quot;Antonio Gibson…</td><td>&quot;48&quot;</td><td>&quot;389&quot;</td><td>&quot;2&quot;</td><td>&quot;3&quot;</td><td>&quot;1&quot;</td><td>&quot;41&quot;</td><td>&quot;19&quot;</td><td>&quot;39.6&quot;</td><td>&quot;2&quot;</td><td>&quot;377&quot;</td><td>&quot;59&quot;</td><td>2023</td></tr><tr><td>&quot;Allen Robinson…</td><td>&quot;34&quot;</td><td>&quot;280&quot;</td><td>&quot;0&quot;</td><td>&quot;2&quot;</td><td>&quot;0&quot;</td><td>&quot;31&quot;</td><td>&quot;9&quot;</td><td>&quot;26.5&quot;</td><td>&quot;0&quot;</td><td>&quot;68&quot;</td><td>&quot;49&quot;</td><td>2023</td></tr><tr><td>&quot;Alec Pierce&quot;</td><td>&quot;32&quot;</td><td>&quot;514&quot;</td><td>&quot;2&quot;</td><td>&quot;8&quot;</td><td>&quot;2&quot;</td><td>&quot;58&quot;</td><td>&quot;24&quot;</td><td>&quot;75&quot;</td><td>&quot;0&quot;</td><td>&quot;97&quot;</td><td>&quot;65&quot;</td><td>2023</td></tr><tr><td>&quot;Aaron Jones&quot;</td><td>&quot;30&quot;</td><td>&quot;233&quot;</td><td>&quot;1&quot;</td><td>&quot;2&quot;</td><td>&quot;1&quot;</td><td>&quot;51&quot;</td><td>&quot;13&quot;</td><td>&quot;43.3&quot;</td><td>&quot;1&quot;</td><td>&quot;271&quot;</td><td>&quot;43&quot;</td><td>2023</td></tr></tbody></table></div>"
      ],
      "text/plain": [
       "shape: (10, 13)\n",
       "┌───────────────────┬─────┬──────┬─────┬───┬─────────┬───────────┬──────┬────────┐\n",
       "│ Player            ┆ Rec ┆ Yds  ┆ TD  ┆ … ┆ Rec FUM ┆ Rec YAC/R ┆ Tgts ┆ Season │\n",
       "│ ---               ┆ --- ┆ ---  ┆ --- ┆   ┆ ---     ┆ ---       ┆ ---  ┆ ---    │\n",
       "│ str               ┆ str ┆ str  ┆ str ┆   ┆ str     ┆ str       ┆ str  ┆ i32    │\n",
       "╞═══════════════════╪═════╪══════╪═════╪═══╪═════════╪═══════════╪══════╪════════╡\n",
       "│ Amon-Ra St. Brown ┆ 119 ┆ 1515 ┆ 10  ┆ … ┆ 1       ┆ 668       ┆ 164  ┆ 2023   │\n",
       "│ A.J. Brown        ┆ 106 ┆ 1456 ┆ 7   ┆ … ┆ 2       ┆ 473       ┆ 158  ┆ 2023   │\n",
       "│ Adam Thielen      ┆ 103 ┆ 1014 ┆ 4   ┆ … ┆ 2       ┆ 334       ┆ 137  ┆ 2023   │\n",
       "│ Alvin Kamara      ┆ 75  ┆ 466  ┆ 1   ┆ … ┆ 0       ┆ 501       ┆ 86   ┆ 2023   │\n",
       "│ Amari Cooper      ┆ 72  ┆ 1250 ┆ 5   ┆ … ┆ 2       ┆ 271       ┆ 128  ┆ 2023   │\n",
       "│ Austin Ekeler     ┆ 51  ┆ 436  ┆ 1   ┆ … ┆ 2       ┆ 533       ┆ 74   ┆ 2023   │\n",
       "│ Antonio Gibson    ┆ 48  ┆ 389  ┆ 2   ┆ … ┆ 2       ┆ 377       ┆ 59   ┆ 2023   │\n",
       "│ Allen Robinson    ┆ 34  ┆ 280  ┆ 0   ┆ … ┆ 0       ┆ 68        ┆ 49   ┆ 2023   │\n",
       "│ Alec Pierce       ┆ 32  ┆ 514  ┆ 2   ┆ … ┆ 0       ┆ 97        ┆ 65   ┆ 2023   │\n",
       "│ Aaron Jones       ┆ 30  ┆ 233  ┆ 1   ┆ … ┆ 1       ┆ 271       ┆ 43   ┆ 2023   │\n",
       "└───────────────────┴─────┴──────┴─────┴───┴─────────┴───────────┴──────┴────────┘"
      ]
     },
     "metadata": {},
     "output_type": "display_data"
    }
   ],
   "source": [
    "df_2023 = df_receiving.filter((pl.col(\"Season\")==2023) & pl.col(\"Player\").str.starts_with(\"A\")).limit(10)\n",
    "display(df_2023)"
   ]
  },
  {
   "cell_type": "code",
   "execution_count": 177,
   "metadata": {},
   "outputs": [
    {
     "data": {
      "text/html": [
       "<div><style>\n",
       ".dataframe > thead > tr,\n",
       ".dataframe > tbody > tr {\n",
       "  text-align: right;\n",
       "  white-space: pre-wrap;\n",
       "}\n",
       "</style>\n",
       "<small>shape: (10, 5)</small><table border=\"1\" class=\"dataframe\"><thead><tr><th>Player</th><th>Rec</th><th>Yds</th><th>TD</th><th>Season</th></tr><tr><td>str</td><td>i32</td><td>i32</td><td>i32</td><td>str</td></tr></thead><tbody><tr><td>&quot;Randy Moss&quot;</td><td>98</td><td>1493</td><td>23</td><td>&quot;2007&quot;</td></tr><tr><td>&quot;Jerry Rice&quot;</td><td>65</td><td>1078</td><td>22</td><td>&quot;1987&quot;</td></tr><tr><td>&quot;Mark Clayton&quot;</td><td>73</td><td>1389</td><td>18</td><td>&quot;1984&quot;</td></tr><tr><td>&quot;Sterling Sharp…</td><td>94</td><td>1119</td><td>18</td><td>&quot;1994&quot;</td></tr><tr><td>&quot;Davante Adams&quot;</td><td>115</td><td>1374</td><td>18</td><td>&quot;2020&quot;</td></tr><tr><td>&quot;Jerry Rice&quot;</td><td>82</td><td>1483</td><td>17</td><td>&quot;1989&quot;</td></tr><tr><td>&quot;Randy Moss&quot;</td><td>111</td><td>1632</td><td>17</td><td>&quot;2003&quot;</td></tr><tr><td>&quot;Cris Carter&quot;</td><td>122</td><td>1371</td><td>17</td><td>&quot;1995&quot;</td></tr><tr><td>&quot;Carl Pickens&quot;</td><td>99</td><td>1234</td><td>17</td><td>&quot;1995&quot;</td></tr><tr><td>&quot;Randy Moss&quot;</td><td>69</td><td>1313</td><td>17</td><td>&quot;1998&quot;</td></tr></tbody></table></div>"
      ],
      "text/plain": [
       "shape: (10, 5)\n",
       "┌─────────────────┬─────┬──────┬─────┬────────┐\n",
       "│ Player          ┆ Rec ┆ Yds  ┆ TD  ┆ Season │\n",
       "│ ---             ┆ --- ┆ ---  ┆ --- ┆ ---    │\n",
       "│ str             ┆ i32 ┆ i32  ┆ i32 ┆ str    │\n",
       "╞═════════════════╪═════╪══════╪═════╪════════╡\n",
       "│ Randy Moss      ┆ 98  ┆ 1493 ┆ 23  ┆ 2007   │\n",
       "│ Jerry Rice      ┆ 65  ┆ 1078 ┆ 22  ┆ 1987   │\n",
       "│ Mark Clayton    ┆ 73  ┆ 1389 ┆ 18  ┆ 1984   │\n",
       "│ Sterling Sharpe ┆ 94  ┆ 1119 ┆ 18  ┆ 1994   │\n",
       "│ Davante Adams   ┆ 115 ┆ 1374 ┆ 18  ┆ 2020   │\n",
       "│ Jerry Rice      ┆ 82  ┆ 1483 ┆ 17  ┆ 1989   │\n",
       "│ Randy Moss      ┆ 111 ┆ 1632 ┆ 17  ┆ 2003   │\n",
       "│ Cris Carter     ┆ 122 ┆ 1371 ┆ 17  ┆ 1995   │\n",
       "│ Carl Pickens    ┆ 99  ┆ 1234 ┆ 17  ┆ 1995   │\n",
       "│ Randy Moss      ┆ 69  ┆ 1313 ┆ 17  ┆ 1998   │\n",
       "└─────────────────┴─────┴──────┴─────┴────────┘"
      ]
     },
     "metadata": {},
     "output_type": "display_data"
    }
   ],
   "source": [
    "# Assuming all columns are strings (you might need to adjust data types based on your data)\n",
    "df = df_receiving.select([\n",
    "    pl.col(\"Player\").cast(pl.Utf8),  # Cast Player to string (Utf8)\n",
    "    pl.col(\"Rec\").cast(pl.Int32),  # Cast Rec to integer (Int32)\n",
    "    pl.col(\"Yds\").cast(pl.Int32),  # Cast Yds to integer (Int32)\n",
    "    pl.col(\"TD\").cast(pl.Int32),   # Cast TD to integer (Int32)\n",
    "    pl.col(\"Season\").cast(pl.Utf8)\n",
    "])\n",
    "\n",
    "sorted_df = df.select(\"Player\", \"Rec\", \"Yds\", \"TD\", \"Season\").sort(\"TD\",descending=True)\n",
    "\n",
    "display(sorted_df.head(10))"
   ]
  },
  {
   "cell_type": "code",
   "execution_count": 82,
   "metadata": {},
   "outputs": [
    {
     "data": {
      "text/html": [
       "<div><style>\n",
       ".dataframe > thead > tr,\n",
       ".dataframe > tbody > tr {\n",
       "  text-align: right;\n",
       "  white-space: pre-wrap;\n",
       "}\n",
       "</style>\n",
       "<small>shape: (15, 4)</small><table border=\"1\" class=\"dataframe\"><thead><tr><th>Player</th><th>Rec</th><th>Yds</th><th>TD</th></tr><tr><td>str</td><td>i32</td><td>i32</td><td>i32</td></tr></thead><tbody><tr><td>&quot;Jerry Rice&quot;</td><td>1549</td><td>22895</td><td>197</td></tr><tr><td>&quot;Steve Smith&quot;</td><td>1407</td><td>18622</td><td>106</td></tr><tr><td>&quot;Larry Fitzgera…</td><td>1432</td><td>17492</td><td>121</td></tr><tr><td>&quot;Terrell Owens&quot;</td><td>1078</td><td>15934</td><td>153</td></tr><tr><td>&quot;Randy Moss&quot;</td><td>982</td><td>15292</td><td>156</td></tr><tr><td>&quot;Isaac Bruce&quot;</td><td>1024</td><td>15208</td><td>91</td></tr><tr><td>&quot;Tony Gonzalez&quot;</td><td>1325</td><td>15127</td><td>111</td></tr><tr><td>&quot;Tim Brown&quot;</td><td>1094</td><td>14934</td><td>100</td></tr><tr><td>&quot;Marvin Harriso…</td><td>1102</td><td>14580</td><td>128</td></tr><tr><td>&quot;Reggie Wayne&quot;</td><td>1070</td><td>14345</td><td>82</td></tr><tr><td>&quot;Andre Johnson&quot;</td><td>1062</td><td>14185</td><td>70</td></tr><tr><td>&quot;James Lofton&quot;</td><td>764</td><td>14004</td><td>75</td></tr><tr><td>&quot;Cris Carter&quot;</td><td>1101</td><td>13899</td><td>130</td></tr><tr><td>&quot;Anquan Boldin&quot;</td><td>1076</td><td>13779</td><td>82</td></tr><tr><td>&quot;Henry Ellard&quot;</td><td>814</td><td>13777</td><td>65</td></tr></tbody></table></div>"
      ],
      "text/plain": [
       "shape: (15, 4)\n",
       "┌──────────────────┬──────┬───────┬─────┐\n",
       "│ Player           ┆ Rec  ┆ Yds   ┆ TD  │\n",
       "│ ---              ┆ ---  ┆ ---   ┆ --- │\n",
       "│ str              ┆ i32  ┆ i32   ┆ i32 │\n",
       "╞══════════════════╪══════╪═══════╪═════╡\n",
       "│ Jerry Rice       ┆ 1549 ┆ 22895 ┆ 197 │\n",
       "│ Steve Smith      ┆ 1407 ┆ 18622 ┆ 106 │\n",
       "│ Larry Fitzgerald ┆ 1432 ┆ 17492 ┆ 121 │\n",
       "│ Terrell Owens    ┆ 1078 ┆ 15934 ┆ 153 │\n",
       "│ Randy Moss       ┆ 982  ┆ 15292 ┆ 156 │\n",
       "│ …                ┆ …    ┆ …     ┆ …   │\n",
       "│ Andre Johnson    ┆ 1062 ┆ 14185 ┆ 70  │\n",
       "│ James Lofton     ┆ 764  ┆ 14004 ┆ 75  │\n",
       "│ Cris Carter      ┆ 1101 ┆ 13899 ┆ 130 │\n",
       "│ Anquan Boldin    ┆ 1076 ┆ 13779 ┆ 82  │\n",
       "│ Henry Ellard     ┆ 814  ┆ 13777 ┆ 65  │\n",
       "└──────────────────┴──────┴───────┴─────┘"
      ]
     },
     "metadata": {},
     "output_type": "display_data"
    }
   ],
   "source": [
    "df = df_receiving.select([\n",
    "    pl.col(\"Player\").cast(pl.Utf8),  # Cast Player to string (Utf8)\n",
    "    pl.col(\"Rec\").cast(pl.Int32),  # Cast Rec to integer (Int32)\n",
    "    pl.col(\"Yds\").cast(pl.Int32),  # Cast Yds to integer (Int32)\n",
    "    pl.col(\"TD\").cast(pl.Int32),   # Cast TD to integer (Int32)\n",
    "])\n",
    "\n",
    "df_sum = df.group_by(\"Player\",maintain_order=True).sum().sort(\"Yds\",descending=True).head(15)\n",
    "display(df_sum)"
   ]
  }
 ],
 "metadata": {
  "kernelspec": {
   "display_name": "Python 3",
   "language": "python",
   "name": "python3"
  },
  "language_info": {
   "codemirror_mode": {
    "name": "ipython",
    "version": 3
   },
   "file_extension": ".py",
   "mimetype": "text/x-python",
   "name": "python",
   "nbconvert_exporter": "python",
   "pygments_lexer": "ipython3",
   "version": "3.9.6"
  }
 },
 "nbformat": 4,
 "nbformat_minor": 2
}
